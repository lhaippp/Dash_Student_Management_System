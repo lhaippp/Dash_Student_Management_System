{
 "cells": [
  {
   "cell_type": "code",
   "execution_count": 1,
   "metadata": {},
   "outputs": [
    {
     "data": {
      "text/html": [
       "<script>requirejs.config({paths: { 'plotly': ['https://cdn.plot.ly/plotly-latest.min']},});if(!window.Plotly) {{require(['plotly'],function(plotly) {window.Plotly=plotly;});}}</script>"
      ],
      "text/vnd.plotly.v1+html": [
       "<script>requirejs.config({paths: { 'plotly': ['https://cdn.plot.ly/plotly-latest.min']},});if(!window.Plotly) {{require(['plotly'],function(plotly) {window.Plotly=plotly;});}}</script>"
      ]
     },
     "metadata": {},
     "output_type": "display_data"
    }
   ],
   "source": [
    "import plotly\n",
    "import plotly.graph_objs as go\n",
    "import pandas as pd\n",
    "\n",
    "from plotly import tools\n",
    "\n",
    "plotly.offline.init_notebook_mode(connected=True)"
   ]
  },
  {
   "cell_type": "code",
   "execution_count": 2,
   "metadata": {},
   "outputs": [],
   "source": [
    "group_by = 'num_groupe_etudiant'\n",
    "reindex = True\n",
    "ascending = False"
   ]
  },
  {
   "cell_type": "code",
   "execution_count": 3,
   "metadata": {},
   "outputs": [],
   "source": [
    "colorscale = [[0, 'rgb(178, 10, 28)'],[1, 'rgb(129, 201, 159)']]\n",
    "colorbar = {'lenmode':'pixels','len':200, 'yanchor':'top', 'y':1, 'dtick':1}"
   ]
  },
  {
   "cell_type": "code",
   "execution_count": 4,
   "metadata": {},
   "outputs": [],
   "source": [
    "df_students = pd.read_csv('/home/lbrisson/git/tc-bd-ihm/stats/databi/ExportElevesUVSimple_F3B415_Niv2.csv')\n",
    "df_students.columns = [x.lower() for x in df_students.columns]\n",
    "df_students['niveau_atteint_max_francais'].fillna('Maternel', inplace=True)"
   ]
  },
  {
   "cell_type": "code",
   "execution_count": 5,
   "metadata": {},
   "outputs": [],
   "source": [
    "group_variables = ['id_eleve','groupe_promo','num_groupe_etudiant','libelle','site',\n",
    "                    'code_formation','code_admission','niveau_atteint_max_francais']"
   ]
  },
  {
   "cell_type": "code",
   "execution_count": 11,
   "metadata": {},
   "outputs": [
    {
     "name": "stderr",
     "output_type": "stream",
     "text": [
      "/home/lbrisson/.pyenv/versions/3.5.2/envs/dash/lib/python3.5/site-packages/ipykernel_launcher.py:10: FutureWarning:\n",
      "\n",
      "'.reindex_axis' is deprecated and will be removed in a future version. Use '.reindex' instead.\n",
      "\n"
     ]
    }
   ],
   "source": [
    "df = pd.read_csv('/home/lbrisson/git/tc-bd-ihm/stats/databi/2018-F3B415-Niv2-QCM2.csv')\n",
    "df.columns = [x.lower() for x in df.columns]\n",
    "\n",
    "student_id = 'id_eleve'\n",
    "student_name = 'nom'\n",
    "observations = [x for x in list(df.columns) if x not in [student_id, student_name]]\n",
    "\n",
    "df = df.merge(df_students[group_variables], on='id_eleve')\n",
    "if reindex:\n",
    "    df.reindex_axis(sorted(df.columns), axis=1)\n",
    "\n",
    "df.sort_values(by=student_name, inplace=True, ascending=ascending)"
   ]
  },
  {
   "cell_type": "code",
   "execution_count": 12,
   "metadata": {
    "scrolled": false
   },
   "outputs": [
    {
     "name": "stdout",
     "output_type": "stream",
     "text": [
      "This is the format of your plot grid:\n",
      "[ (1,1) x1,y1 ]\n",
      "[ (2,1) x2,y2 ]\n",
      "[ (3,1) x3,y3 ]\n",
      "[ (4,1) x4,y4 ]\n",
      "\n"
     ]
    },
    {
     "name": "stderr",
     "output_type": "stream",
     "text": [
      "/home/lbrisson/.pyenv/versions/3.5.2/envs/dash/lib/python3.5/site-packages/ipykernel_launcher.py:10: SettingWithCopyWarning:\n",
      "\n",
      "\n",
      "A value is trying to be set on a copy of a slice from a DataFrame\n",
      "\n",
      "See the caveats in the documentation: http://pandas.pydata.org/pandas-docs/stable/indexing.html#indexing-view-versus-copy\n",
      "\n"
     ]
    },
    {
     "data": {
      "application/vnd.plotly.v1+json": {
       "data": [
        {
         "colorbar": {
          "dtick": 1,
          "len": 200,
          "lenmode": "pixels",
          "y": 1,
          "yanchor": "top"
         },
         "colorscale": [
          [
           0,
           "rgb(178, 10, 28)"
          ],
          [
           1,
           "rgb(129, 201, 159)"
          ]
         ],
         "showscale": true,
         "type": "heatmap",
         "uid": "f75b760c-f24d-11e8-8ff9-98e7f46649cd",
         "x": [
          "bus2",
          "clef3",
          "composants1",
          "composants16",
          "composants3",
          "conforme4",
          "dashboard2",
          "degeneree1",
          "deportee1",
          "evolution1",
          "evolution3",
          "faits2",
          "grain5",
          "grain9",
          "maj3",
          "maj7",
          "olap10",
          "schema3",
          "scrum1",
          "scrum2"
         ],
         "xaxis": "x",
         "xgap": 1,
         "y": [
          "TAKHCHI Mehdi",
          "MAMI Samar",
          "KOUASSI Henri Michel DesirÃ©",
          "FATHALLAH Oussama",
          "CHAAOURI Thabet"
         ],
         "yaxis": "y",
         "ygap": 2,
         "z": [
          [
           1,
           1,
           1,
           1,
           0,
           1,
           1,
           0,
           0,
           0,
           0,
           1,
           0,
           0,
           1,
           1,
           1,
           0,
           0,
           0
          ],
          [
           1,
           1,
           1,
           1,
           0,
           1,
           0,
           0,
           1,
           1,
           0,
           1,
           1,
           0,
           0,
           1,
           1,
           0,
           1,
           1
          ],
          [
           1,
           1,
           1,
           1,
           1,
           0,
           0,
           0,
           1,
           1,
           0,
           1,
           1,
           1,
           0,
           1,
           1,
           0,
           0,
           1
          ],
          [
           1,
           1,
           1,
           1,
           0,
           1,
           0,
           1,
           0,
           0,
           0,
           1,
           1,
           0,
           1,
           1,
           1,
           0,
           0,
           0
          ],
          [
           0,
           1,
           1,
           1,
           1,
           1,
           0,
           1,
           1,
           1,
           0,
           1,
           1,
           0,
           1,
           1,
           1,
           1,
           0,
           0
          ]
         ]
        },
        {
         "colorscale": [
          [
           0,
           "rgb(178, 10, 28)"
          ],
          [
           1,
           "rgb(129, 201, 159)"
          ]
         ],
         "showscale": false,
         "type": "heatmap",
         "uid": "f75b760d-f24d-11e8-8ff9-98e7f46649cd",
         "x": [
          "bus2",
          "clef3",
          "composants1",
          "composants16",
          "composants3",
          "conforme4",
          "dashboard2",
          "degeneree1",
          "deportee1",
          "evolution1",
          "evolution3",
          "faits2",
          "grain5",
          "grain9",
          "maj3",
          "maj7",
          "olap10",
          "schema3",
          "scrum1",
          "scrum2"
         ],
         "xaxis": "x2",
         "xgap": 1,
         "y": [
          "VERDICKT Thibaud",
          "ROY Mathieu",
          "HAMOIR Pierre",
          "BACHELOT Matthieu"
         ],
         "yaxis": "y2",
         "ygap": 2,
         "z": [
          [
           1,
           1,
           1,
           1,
           1,
           1,
           1,
           1,
           1,
           1,
           0,
           1,
           1,
           1,
           0,
           1,
           1,
           0,
           0,
           1
          ],
          [
           1,
           1,
           1,
           1,
           0,
           0,
           1,
           0,
           1,
           1,
           0,
           0,
           0,
           1,
           0,
           1,
           1,
           0,
           0,
           0
          ],
          [
           1,
           0,
           1,
           1,
           1,
           1,
           0,
           1,
           1,
           1,
           0,
           1,
           1,
           1,
           1,
           1,
           1,
           0,
           0,
           0
          ],
          [
           1,
           1,
           1,
           1,
           1,
           0,
           1,
           1,
           1,
           0,
           0,
           0,
           1,
           1,
           1,
           1,
           1,
           1,
           0,
           1
          ]
         ]
        },
        {
         "colorscale": [
          [
           0,
           "rgb(178, 10, 28)"
          ],
          [
           1,
           "rgb(129, 201, 159)"
          ]
         ],
         "showscale": false,
         "type": "heatmap",
         "uid": "f75b760e-f24d-11e8-8ff9-98e7f46649cd",
         "x": [
          "bus2",
          "clef3",
          "composants1",
          "composants16",
          "composants3",
          "conforme4",
          "dashboard2",
          "degeneree1",
          "deportee1",
          "evolution1",
          "evolution3",
          "faits2",
          "grain5",
          "grain9",
          "maj3",
          "maj7",
          "olap10",
          "schema3",
          "scrum1",
          "scrum2"
         ],
         "xaxis": "x3",
         "xgap": 1,
         "y": [
          "SOW Souleymane",
          "KRAGBE Ange Harold Kigui",
          "GOUDIABY El Hadji Abdou Aziz",
          "DIOUANI Malik"
         ],
         "yaxis": "y3",
         "ygap": 2,
         "z": [
          [
           0,
           1,
           0,
           1,
           1,
           1,
           0,
           1,
           1,
           1,
           1,
           1,
           1,
           1,
           0,
           1,
           1,
           1,
           1,
           1
          ],
          [
           0,
           1,
           1,
           1,
           1,
           1,
           0,
           1,
           0,
           1,
           1,
           1,
           1,
           0,
           1,
           1,
           1,
           1,
           0,
           1
          ],
          [
           0,
           1,
           1,
           1,
           1,
           1,
           0,
           0,
           1,
           1,
           0,
           1,
           1,
           1,
           1,
           1,
           1,
           1,
           1,
           1
          ],
          [
           1,
           0,
           0,
           1,
           1,
           1,
           1,
           0,
           1,
           0,
           0,
           1,
           1,
           1,
           1,
           1,
           1,
           1,
           0,
           1
          ]
         ]
        },
        {
         "colorscale": [
          [
           0,
           "rgb(178, 10, 28)"
          ],
          [
           1,
           "rgb(129, 201, 159)"
          ]
         ],
         "showscale": false,
         "type": "heatmap",
         "uid": "f75b760f-f24d-11e8-8ff9-98e7f46649cd",
         "x": [
          "bus2",
          "clef3",
          "composants1",
          "composants16",
          "composants3",
          "conforme4",
          "dashboard2",
          "degeneree1",
          "deportee1",
          "evolution1",
          "evolution3",
          "faits2",
          "grain5",
          "grain9",
          "maj3",
          "maj7",
          "olap10",
          "schema3",
          "scrum1",
          "scrum2"
         ],
         "xaxis": "x4",
         "xgap": 1,
         "y": [
          "YEDES Chaima",
          "TRIFA Ahmed",
          "RABAH Koussay",
          "DIAKITE Cheick Mohamed",
          "BEN KHALIFA Afef"
         ],
         "yaxis": "y4",
         "ygap": 2,
         "z": [
          [
           1,
           1,
           0,
           1,
           1,
           0,
           0,
           0,
           1,
           1,
           0,
           1,
           0,
           1,
           0,
           1,
           1,
           1,
           0,
           1
          ],
          [
           1,
           1,
           0,
           1,
           1,
           0,
           0,
           0,
           1,
           1,
           0,
           0,
           1,
           1,
           0,
           0,
           1,
           0,
           0,
           0
          ],
          [
           1,
           0,
           0,
           1,
           1,
           0,
           1,
           0,
           1,
           1,
           0,
           0,
           0,
           0,
           0,
           0,
           0,
           0,
           0,
           1
          ],
          [
           1,
           0,
           0,
           1,
           1,
           0,
           1,
           1,
           1,
           1,
           1,
           1,
           0,
           1,
           1,
           1,
           1,
           1,
           1,
           1
          ],
          [
           0,
           1,
           1,
           1,
           1,
           0,
           1,
           0,
           0,
           1,
           0,
           1,
           1,
           1,
           1,
           1,
           1,
           0,
           0,
           0
          ]
         ]
        }
       ],
       "layout": {
        "autosize": true,
        "height": 600,
        "margin": {
         "l": 200,
         "t": 100
        },
        "paper_bgcolor": "rgb(239, 239, 239)",
        "width": 600,
        "xaxis": {
         "anchor": "y",
         "domain": [
          0,
          1
         ],
         "showgrid": false,
         "side": "top"
        },
        "xaxis2": {
         "anchor": "y2",
         "domain": [
          0,
          1
         ],
         "showgrid": false,
         "showticklabels": false,
         "ticks": ""
        },
        "xaxis3": {
         "anchor": "y3",
         "domain": [
          0,
          1
         ],
         "showgrid": false,
         "showticklabels": false,
         "ticks": ""
        },
        "xaxis4": {
         "anchor": "y4",
         "domain": [
          0,
          1
         ],
         "showgrid": false,
         "showticklabels": false,
         "ticks": ""
        },
        "yaxis": {
         "anchor": "x",
         "domain": [
          0.8181818181818182,
          1
         ],
         "showgrid": false,
         "title": "2",
         "titlefont": {
          "size": 22
         }
        },
        "yaxis2": {
         "anchor": "x2",
         "domain": [
          0.6363636363636364,
          0.7818181818181819
         ],
         "showgrid": false,
         "title": "3",
         "titlefont": {
          "size": 22
         }
        },
        "yaxis3": {
         "anchor": "x3",
         "domain": [
          0.45454545454545453,
          0.6
         ],
         "showgrid": false,
         "title": "4",
         "titlefont": {
          "size": 22
         }
        },
        "yaxis4": {
         "anchor": "x4",
         "domain": [
          0.23636363636363636,
          0.41818181818181815
         ],
         "showgrid": false,
         "title": "5",
         "titlefont": {
          "size": 22
         }
        }
       }
      },
      "text/html": [
       "<div id=\"32f7e49b-1626-40b7-bdcb-a307d7e2c276\" style=\"height: 600px; width: 600px;\" class=\"plotly-graph-div\"></div><script type=\"text/javascript\">require([\"plotly\"], function(Plotly) { window.PLOTLYENV=window.PLOTLYENV || {};window.PLOTLYENV.BASE_URL=\"https://plot.ly\";Plotly.newPlot(\"32f7e49b-1626-40b7-bdcb-a307d7e2c276\", [{\"type\": \"heatmap\", \"colorbar\": {\"yanchor\": \"top\", \"len\": 200, \"dtick\": 1, \"lenmode\": \"pixels\", \"y\": 1}, \"uid\": \"f75b760c-f24d-11e8-8ff9-98e7f46649cd\", \"y\": [\"TAKHCHI Mehdi\", \"MAMI Samar\", \"KOUASSI Henri Michel Desir\\u00e9\", \"FATHALLAH Oussama\", \"CHAAOURI Thabet\"], \"z\": [[1, 1, 1, 1, 0, 1, 1, 0, 0, 0, 0, 1, 0, 0, 1, 1, 1, 0, 0, 0], [1, 1, 1, 1, 0, 1, 0, 0, 1, 1, 0, 1, 1, 0, 0, 1, 1, 0, 1, 1], [1, 1, 1, 1, 1, 0, 0, 0, 1, 1, 0, 1, 1, 1, 0, 1, 1, 0, 0, 1], [1, 1, 1, 1, 0, 1, 0, 1, 0, 0, 0, 1, 1, 0, 1, 1, 1, 0, 0, 0], [0, 1, 1, 1, 1, 1, 0, 1, 1, 1, 0, 1, 1, 0, 1, 1, 1, 1, 0, 0]], \"xaxis\": \"x\", \"x\": [\"bus2\", \"clef3\", \"composants1\", \"composants16\", \"composants3\", \"conforme4\", \"dashboard2\", \"degeneree1\", \"deportee1\", \"evolution1\", \"evolution3\", \"faits2\", \"grain5\", \"grain9\", \"maj3\", \"maj7\", \"olap10\", \"schema3\", \"scrum1\", \"scrum2\"], \"yaxis\": \"y\", \"colorscale\": [[0, \"rgb(178, 10, 28)\"], [1, \"rgb(129, 201, 159)\"]], \"showscale\": true, \"xgap\": 1, \"ygap\": 2}, {\"type\": \"heatmap\", \"xaxis\": \"x2\", \"x\": [\"bus2\", \"clef3\", \"composants1\", \"composants16\", \"composants3\", \"conforme4\", \"dashboard2\", \"degeneree1\", \"deportee1\", \"evolution1\", \"evolution3\", \"faits2\", \"grain5\", \"grain9\", \"maj3\", \"maj7\", \"olap10\", \"schema3\", \"scrum1\", \"scrum2\"], \"uid\": \"f75b760d-f24d-11e8-8ff9-98e7f46649cd\", \"yaxis\": \"y2\", \"y\": [\"VERDICKT Thibaud\", \"ROY Mathieu\", \"HAMOIR Pierre\", \"BACHELOT Matthieu\"], \"colorscale\": [[0, \"rgb(178, 10, 28)\"], [1, \"rgb(129, 201, 159)\"]], \"z\": [[1, 1, 1, 1, 1, 1, 1, 1, 1, 1, 0, 1, 1, 1, 0, 1, 1, 0, 0, 1], [1, 1, 1, 1, 0, 0, 1, 0, 1, 1, 0, 0, 0, 1, 0, 1, 1, 0, 0, 0], [1, 0, 1, 1, 1, 1, 0, 1, 1, 1, 0, 1, 1, 1, 1, 1, 1, 0, 0, 0], [1, 1, 1, 1, 1, 0, 1, 1, 1, 0, 0, 0, 1, 1, 1, 1, 1, 1, 0, 1]], \"xgap\": 1, \"showscale\": false, \"ygap\": 2}, {\"type\": \"heatmap\", \"xaxis\": \"x3\", \"x\": [\"bus2\", \"clef3\", \"composants1\", \"composants16\", \"composants3\", \"conforme4\", \"dashboard2\", \"degeneree1\", \"deportee1\", \"evolution1\", \"evolution3\", \"faits2\", \"grain5\", \"grain9\", \"maj3\", \"maj7\", \"olap10\", \"schema3\", \"scrum1\", \"scrum2\"], \"uid\": \"f75b760e-f24d-11e8-8ff9-98e7f46649cd\", \"yaxis\": \"y3\", \"y\": [\"SOW Souleymane\", \"KRAGBE Ange Harold Kigui\", \"GOUDIABY El Hadji Abdou Aziz\", \"DIOUANI Malik\"], \"colorscale\": [[0, \"rgb(178, 10, 28)\"], [1, \"rgb(129, 201, 159)\"]], \"z\": [[0, 1, 0, 1, 1, 1, 0, 1, 1, 1, 1, 1, 1, 1, 0, 1, 1, 1, 1, 1], [0, 1, 1, 1, 1, 1, 0, 1, 0, 1, 1, 1, 1, 0, 1, 1, 1, 1, 0, 1], [0, 1, 1, 1, 1, 1, 0, 0, 1, 1, 0, 1, 1, 1, 1, 1, 1, 1, 1, 1], [1, 0, 0, 1, 1, 1, 1, 0, 1, 0, 0, 1, 1, 1, 1, 1, 1, 1, 0, 1]], \"xgap\": 1, \"showscale\": false, \"ygap\": 2}, {\"type\": \"heatmap\", \"xaxis\": \"x4\", \"x\": [\"bus2\", \"clef3\", \"composants1\", \"composants16\", \"composants3\", \"conforme4\", \"dashboard2\", \"degeneree1\", \"deportee1\", \"evolution1\", \"evolution3\", \"faits2\", \"grain5\", \"grain9\", \"maj3\", \"maj7\", \"olap10\", \"schema3\", \"scrum1\", \"scrum2\"], \"uid\": \"f75b760f-f24d-11e8-8ff9-98e7f46649cd\", \"yaxis\": \"y4\", \"y\": [\"YEDES Chaima\", \"TRIFA Ahmed\", \"RABAH Koussay\", \"DIAKITE Cheick Mohamed\", \"BEN KHALIFA Afef\"], \"colorscale\": [[0, \"rgb(178, 10, 28)\"], [1, \"rgb(129, 201, 159)\"]], \"z\": [[1, 1, 0, 1, 1, 0, 0, 0, 1, 1, 0, 1, 0, 1, 0, 1, 1, 1, 0, 1], [1, 1, 0, 1, 1, 0, 0, 0, 1, 1, 0, 0, 1, 1, 0, 0, 1, 0, 0, 0], [1, 0, 0, 1, 1, 0, 1, 0, 1, 1, 0, 0, 0, 0, 0, 0, 0, 0, 0, 1], [1, 0, 0, 1, 1, 0, 1, 1, 1, 1, 1, 1, 0, 1, 1, 1, 1, 1, 1, 1], [0, 1, 1, 1, 1, 0, 1, 0, 0, 1, 0, 1, 1, 1, 1, 1, 1, 0, 0, 0]], \"xgap\": 1, \"showscale\": false, \"ygap\": 2}], {\"yaxis4\": {\"showgrid\": false, \"title\": \"5\", \"anchor\": \"x4\", \"domain\": [0.23636363636363636, 0.41818181818181815], \"titlefont\": {\"size\": 22}}, \"xaxis3\": {\"ticks\": \"\", \"showgrid\": false, \"anchor\": \"y3\", \"showticklabels\": false, \"domain\": [0.0, 1.0]}, \"xaxis4\": {\"showgrid\": false, \"ticks\": \"\", \"anchor\": \"y4\", \"showticklabels\": false, \"domain\": [0.0, 1.0]}, \"paper_bgcolor\": \"rgb(239, 239, 239)\", \"margin\": {\"l\": 200, \"t\": 100}, \"yaxis2\": {\"showgrid\": false, \"title\": \"3\", \"anchor\": \"x2\", \"domain\": [0.6363636363636364, 0.7818181818181819], \"titlefont\": {\"size\": 22}}, \"xaxis\": {\"showgrid\": false, \"anchor\": \"y\", \"domain\": [0.0, 1.0], \"side\": \"top\"}, \"autosize\": true, \"yaxis\": {\"showgrid\": false, \"title\": \"2\", \"anchor\": \"x\", \"domain\": [0.8181818181818182, 1.0], \"titlefont\": {\"size\": 22}}, \"xaxis2\": {\"showgrid\": false, \"ticks\": \"\", \"anchor\": \"y2\", \"showticklabels\": false, \"domain\": [0.0, 1.0]}, \"width\": 600, \"height\": 600, \"yaxis3\": {\"showgrid\": false, \"title\": \"4\", \"anchor\": \"x3\", \"domain\": [0.45454545454545453, 0.6], \"titlefont\": {\"size\": 22}}}, {\"linkText\": \"Export to plot.ly\", \"showLink\": true})});</script>"
      ],
      "text/vnd.plotly.v1+html": [
       "<div id=\"32f7e49b-1626-40b7-bdcb-a307d7e2c276\" style=\"height: 600px; width: 600px;\" class=\"plotly-graph-div\"></div><script type=\"text/javascript\">require([\"plotly\"], function(Plotly) { window.PLOTLYENV=window.PLOTLYENV || {};window.PLOTLYENV.BASE_URL=\"https://plot.ly\";Plotly.newPlot(\"32f7e49b-1626-40b7-bdcb-a307d7e2c276\", [{\"type\": \"heatmap\", \"colorbar\": {\"yanchor\": \"top\", \"len\": 200, \"dtick\": 1, \"lenmode\": \"pixels\", \"y\": 1}, \"uid\": \"f75b760c-f24d-11e8-8ff9-98e7f46649cd\", \"y\": [\"TAKHCHI Mehdi\", \"MAMI Samar\", \"KOUASSI Henri Michel Desir\\u00e9\", \"FATHALLAH Oussama\", \"CHAAOURI Thabet\"], \"z\": [[1, 1, 1, 1, 0, 1, 1, 0, 0, 0, 0, 1, 0, 0, 1, 1, 1, 0, 0, 0], [1, 1, 1, 1, 0, 1, 0, 0, 1, 1, 0, 1, 1, 0, 0, 1, 1, 0, 1, 1], [1, 1, 1, 1, 1, 0, 0, 0, 1, 1, 0, 1, 1, 1, 0, 1, 1, 0, 0, 1], [1, 1, 1, 1, 0, 1, 0, 1, 0, 0, 0, 1, 1, 0, 1, 1, 1, 0, 0, 0], [0, 1, 1, 1, 1, 1, 0, 1, 1, 1, 0, 1, 1, 0, 1, 1, 1, 1, 0, 0]], \"xaxis\": \"x\", \"x\": [\"bus2\", \"clef3\", \"composants1\", \"composants16\", \"composants3\", \"conforme4\", \"dashboard2\", \"degeneree1\", \"deportee1\", \"evolution1\", \"evolution3\", \"faits2\", \"grain5\", \"grain9\", \"maj3\", \"maj7\", \"olap10\", \"schema3\", \"scrum1\", \"scrum2\"], \"yaxis\": \"y\", \"colorscale\": [[0, \"rgb(178, 10, 28)\"], [1, \"rgb(129, 201, 159)\"]], \"showscale\": true, \"xgap\": 1, \"ygap\": 2}, {\"type\": \"heatmap\", \"xaxis\": \"x2\", \"x\": [\"bus2\", \"clef3\", \"composants1\", \"composants16\", \"composants3\", \"conforme4\", \"dashboard2\", \"degeneree1\", \"deportee1\", \"evolution1\", \"evolution3\", \"faits2\", \"grain5\", \"grain9\", \"maj3\", \"maj7\", \"olap10\", \"schema3\", \"scrum1\", \"scrum2\"], \"uid\": \"f75b760d-f24d-11e8-8ff9-98e7f46649cd\", \"yaxis\": \"y2\", \"y\": [\"VERDICKT Thibaud\", \"ROY Mathieu\", \"HAMOIR Pierre\", \"BACHELOT Matthieu\"], \"colorscale\": [[0, \"rgb(178, 10, 28)\"], [1, \"rgb(129, 201, 159)\"]], \"z\": [[1, 1, 1, 1, 1, 1, 1, 1, 1, 1, 0, 1, 1, 1, 0, 1, 1, 0, 0, 1], [1, 1, 1, 1, 0, 0, 1, 0, 1, 1, 0, 0, 0, 1, 0, 1, 1, 0, 0, 0], [1, 0, 1, 1, 1, 1, 0, 1, 1, 1, 0, 1, 1, 1, 1, 1, 1, 0, 0, 0], [1, 1, 1, 1, 1, 0, 1, 1, 1, 0, 0, 0, 1, 1, 1, 1, 1, 1, 0, 1]], \"xgap\": 1, \"showscale\": false, \"ygap\": 2}, {\"type\": \"heatmap\", \"xaxis\": \"x3\", \"x\": [\"bus2\", \"clef3\", \"composants1\", \"composants16\", \"composants3\", \"conforme4\", \"dashboard2\", \"degeneree1\", \"deportee1\", \"evolution1\", \"evolution3\", \"faits2\", \"grain5\", \"grain9\", \"maj3\", \"maj7\", \"olap10\", \"schema3\", \"scrum1\", \"scrum2\"], \"uid\": \"f75b760e-f24d-11e8-8ff9-98e7f46649cd\", \"yaxis\": \"y3\", \"y\": [\"SOW Souleymane\", \"KRAGBE Ange Harold Kigui\", \"GOUDIABY El Hadji Abdou Aziz\", \"DIOUANI Malik\"], \"colorscale\": [[0, \"rgb(178, 10, 28)\"], [1, \"rgb(129, 201, 159)\"]], \"z\": [[0, 1, 0, 1, 1, 1, 0, 1, 1, 1, 1, 1, 1, 1, 0, 1, 1, 1, 1, 1], [0, 1, 1, 1, 1, 1, 0, 1, 0, 1, 1, 1, 1, 0, 1, 1, 1, 1, 0, 1], [0, 1, 1, 1, 1, 1, 0, 0, 1, 1, 0, 1, 1, 1, 1, 1, 1, 1, 1, 1], [1, 0, 0, 1, 1, 1, 1, 0, 1, 0, 0, 1, 1, 1, 1, 1, 1, 1, 0, 1]], \"xgap\": 1, \"showscale\": false, \"ygap\": 2}, {\"type\": \"heatmap\", \"xaxis\": \"x4\", \"x\": [\"bus2\", \"clef3\", \"composants1\", \"composants16\", \"composants3\", \"conforme4\", \"dashboard2\", \"degeneree1\", \"deportee1\", \"evolution1\", \"evolution3\", \"faits2\", \"grain5\", \"grain9\", \"maj3\", \"maj7\", \"olap10\", \"schema3\", \"scrum1\", \"scrum2\"], \"uid\": \"f75b760f-f24d-11e8-8ff9-98e7f46649cd\", \"yaxis\": \"y4\", \"y\": [\"YEDES Chaima\", \"TRIFA Ahmed\", \"RABAH Koussay\", \"DIAKITE Cheick Mohamed\", \"BEN KHALIFA Afef\"], \"colorscale\": [[0, \"rgb(178, 10, 28)\"], [1, \"rgb(129, 201, 159)\"]], \"z\": [[1, 1, 0, 1, 1, 0, 0, 0, 1, 1, 0, 1, 0, 1, 0, 1, 1, 1, 0, 1], [1, 1, 0, 1, 1, 0, 0, 0, 1, 1, 0, 0, 1, 1, 0, 0, 1, 0, 0, 0], [1, 0, 0, 1, 1, 0, 1, 0, 1, 1, 0, 0, 0, 0, 0, 0, 0, 0, 0, 1], [1, 0, 0, 1, 1, 0, 1, 1, 1, 1, 1, 1, 0, 1, 1, 1, 1, 1, 1, 1], [0, 1, 1, 1, 1, 0, 1, 0, 0, 1, 0, 1, 1, 1, 1, 1, 1, 0, 0, 0]], \"xgap\": 1, \"showscale\": false, \"ygap\": 2}], {\"yaxis4\": {\"showgrid\": false, \"title\": \"5\", \"anchor\": \"x4\", \"domain\": [0.23636363636363636, 0.41818181818181815], \"titlefont\": {\"size\": 22}}, \"xaxis3\": {\"ticks\": \"\", \"showgrid\": false, \"anchor\": \"y3\", \"showticklabels\": false, \"domain\": [0.0, 1.0]}, \"xaxis4\": {\"showgrid\": false, \"ticks\": \"\", \"anchor\": \"y4\", \"showticklabels\": false, \"domain\": [0.0, 1.0]}, \"paper_bgcolor\": \"rgb(239, 239, 239)\", \"margin\": {\"l\": 200, \"t\": 100}, \"yaxis2\": {\"showgrid\": false, \"title\": \"3\", \"anchor\": \"x2\", \"domain\": [0.6363636363636364, 0.7818181818181819], \"titlefont\": {\"size\": 22}}, \"xaxis\": {\"showgrid\": false, \"anchor\": \"y\", \"domain\": [0.0, 1.0], \"side\": \"top\"}, \"autosize\": true, \"yaxis\": {\"showgrid\": false, \"title\": \"2\", \"anchor\": \"x\", \"domain\": [0.8181818181818182, 1.0], \"titlefont\": {\"size\": 22}}, \"xaxis2\": {\"showgrid\": false, \"ticks\": \"\", \"anchor\": \"y2\", \"showticklabels\": false, \"domain\": [0.0, 1.0]}, \"width\": 600, \"height\": 600, \"yaxis3\": {\"showgrid\": false, \"title\": \"4\", \"anchor\": \"x3\", \"domain\": [0.45454545454545453, 0.6], \"titlefont\": {\"size\": 22}}}, {\"linkText\": \"Export to plot.ly\", \"showLink\": true})});</script>"
      ]
     },
     "metadata": {},
     "output_type": "display_data"
    }
   ],
   "source": [
    "df.sort_values(by=[group_by,student_name], inplace=True)\n",
    "values = df[group_by].unique() #num_groupe_etudiant\n",
    "\n",
    "fig = tools.make_subplots(rows=len(values), cols=1, shared_xaxes=False)\n",
    "height = len(df)*25+(len(values))*25\n",
    "ymin = height\n",
    "\n",
    "for row, group in enumerate([x for x in values]):\n",
    "    df_group = df[df[group_by] == group]\n",
    "    df_group.sort_values(by=student_name, inplace=True, ascending=ascending)\n",
    "    \n",
    "    ymax = ymin - len(df_group) * 20\n",
    "\n",
    "    if row==0:\n",
    "        trace = go.Heatmap(z=df_group[observations].values.tolist(), \n",
    "                           x=observations, y=df_group[student_name].values.tolist(),\n",
    "                           ygap=2, xgap=1, \n",
    "                           colorscale=colorscale, showscale=True)\n",
    "    else:\n",
    "        trace = go.Heatmap(z=df_group[observations].values.tolist(), \n",
    "                           x=observations, y=df_group[student_name].values.tolist(),\n",
    "                           ygap=2, xgap=1, \n",
    "                           colorscale=colorscale, showscale=False)\n",
    "        \n",
    "    fig.append_trace(trace,row+1, 1)\n",
    "    \n",
    "    label_xkey = 'xaxis{}'.format(row+1)\n",
    "    label_ykey = 'yaxis{}'.format(row+1)\n",
    "    label_value = str(group)\n",
    "      \n",
    "    if row==0:\n",
    "        fig['layout'].update({label_xkey:{'showgrid':False},\n",
    "                              label_ykey:{'title':label_value,'titlefont':{'size':22},\n",
    "                                          'domain':[ymax/height, ymin/height],\n",
    "                                          'showgrid':False}})\n",
    "    else:\n",
    "        fig['layout'].update({label_xkey:{'showticklabels':False,'ticks':'','showgrid':False},\n",
    "                              label_ykey:{'title':label_value,'titlefont':{'size':22},\n",
    "                                          'domain':[ymax/height, ymin/height],\n",
    "                                          'showgrid':False}})\n",
    "    ymin = ymax - 20\n",
    "\n",
    "layout = {'autosize':True,\n",
    "          'height':50+height,\n",
    "          'width':200+len(observations)*20,\n",
    "          'margin':go.layout.Margin(l=200,t=100),\n",
    "          'xaxis1': {'side':'top'},\n",
    "          'paper_bgcolor':'rgb(239, 239, 239)'}\n",
    "    \n",
    "fig['layout'].update(layout)\n",
    "fig['data'][0]['colorbar'] = colorbar\n",
    "plotly.offline.iplot(fig, filename='heatmap')"
   ]
  },
  {
   "cell_type": "code",
   "execution_count": null,
   "metadata": {},
   "outputs": [],
   "source": []
  }
 ],
 "metadata": {
  "kernelspec": {
   "display_name": "Python 3",
   "language": "python",
   "name": "python3"
  },
  "language_info": {
   "codemirror_mode": {
    "name": "ipython",
    "version": 3
   },
   "file_extension": ".py",
   "mimetype": "text/x-python",
   "name": "python",
   "nbconvert_exporter": "python",
   "pygments_lexer": "ipython3",
   "version": "3.6.7"
  },
  "toc": {
   "base_numbering": 1,
   "nav_menu": {},
   "number_sections": true,
   "sideBar": true,
   "skip_h1_title": false,
   "title_cell": "Table of Contents",
   "title_sidebar": "Contents",
   "toc_cell": false,
   "toc_position": {},
   "toc_section_display": true,
   "toc_window_display": false
  }
 },
 "nbformat": 4,
 "nbformat_minor": 2
}
