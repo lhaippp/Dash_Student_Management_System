{
  "nbformat": 4,
  "nbformat_minor": 0,
  "metadata": {
    "colab": {
      "name": "ETL.ipynb",
      "version": "0.3.2",
      "provenance": [],
      "collapsed_sections": []
    },
    "kernelspec": {
      "name": "python3",
      "display_name": "Python 3"
    }
  },
  "cells": [
    {
      "metadata": {
        "id": "IkYI-LEzVVjO",
        "colab_type": "text"
      },
      "cell_type": "markdown",
      "source": [
        "# Import libraries and connect to Google Drive \n",
        "Xuanqi HUANG's gg_drive"
      ]
    },
    {
      "metadata": {
        "id": "_e425Zcsb3sL",
        "colab_type": "code",
        "outputId": "ab854e57-e197-47ae-bc0b-7140a667f9b8",
        "colab": {
          "base_uri": "https://localhost:8080/",
          "height": 294
        }
      },
      "cell_type": "code",
      "source": [
        "################################################# \n",
        "####  Check the file_path drive owner:xhuang ####     \n",
        "#### -- CHECK THIS SHEET BEFORE RUNNING --   ####\n",
        "#################################################\n",
        "# Google Drive authentication 2 times verification\n",
        "# Click the link and copy the google cloud SDK key\n",
        "from google.colab import drive\n",
        "drive.mount('/content/drive', force_remount = True)\n",
        "!pwd\n",
        "!ls \n",
        "\n",
        "print(\"RAM info\")\n",
        "!free -m\n",
        "\n",
        "import os \n",
        "import sys \n",
        "import pandas as pd \n",
        "import numpy as np \n",
        "import seaborn as sns\n",
        "from matplotlib import pyplot as plt\n",
        "def install_and_import(package):\n",
        "    import importlib\n",
        "    try:\n",
        "        importlib.import_module(package)\n",
        "    except ImportError:\n",
        "        import subprocess\n",
        "        import sys\n",
        "        def install(package):\n",
        "            subprocess.call([sys.executable, \"-m\", \"pip\", \"install\", package])\n",
        "        install(package)\n",
        "    finally:\n",
        "        globals()[package] = importlib.import_module(package)\n",
        "        \n",
        "file_path = \"/content/drive/My Drive/S5/F3B_415_G11/data\"\n",
        "\n",
        "# change path into this file\n",
        "os.chdir(file_path) \n",
        "\n",
        "def del_var(var_name):\n",
        "    del var_name\n",
        "    gc.collect()\n",
        "    return True\n",
        "\n",
        "print(\"Data in the file is \")\n",
        "!ls"
      ],
      "execution_count": 1,
      "outputs": [
        {
          "output_type": "stream",
          "text": [
            "Go to this URL in a browser: https://accounts.google.com/o/oauth2/auth?client_id=947318989803-6bn6qk8qdgf4n4g3pfee6491hc0brc4i.apps.googleusercontent.com&redirect_uri=urn%3Aietf%3Awg%3Aoauth%3A2.0%3Aoob&scope=email%20https%3A%2F%2Fwww.googleapis.com%2Fauth%2Fdocs.test%20https%3A%2F%2Fwww.googleapis.com%2Fauth%2Fdrive%20https%3A%2F%2Fwww.googleapis.com%2Fauth%2Fdrive.photos.readonly%20https%3A%2F%2Fwww.googleapis.com%2Fauth%2Fpeopleapi.readonly&response_type=code\n",
            "\n",
            "Enter your authorization code:\n",
            "··········\n",
            "Mounted at /content/drive\n",
            "/content\n",
            "drive  sample_data\n",
            "RAM info\n",
            "              total        used        free      shared  buff/cache   available\n",
            "Mem:          13022         430       11193           0        1398       12327\n",
            "Swap:             0           0           0\n",
            "Data in the file is \n",
            "absence.csv    categories.csv  ExportElevesUVSimple.csv  QCM3.csv\n",
            "atelier.csv    draft.ipynb     fact_table_bi_exam.csv\t QCM.csv\n",
            "catalogue.csv  eleve.csv       QCM2.csv\t\t\t question.csv\n"
          ],
          "name": "stdout"
        }
      ]
    },
    {
      "metadata": {
        "id": "6tbkQJoQegIA",
        "colab_type": "text"
      },
      "cell_type": "markdown",
      "source": [
        "# Randomly Generate data"
      ]
    },
    {
      "metadata": {
        "id": "lsqBIoQRegOL",
        "colab_type": "code",
        "outputId": "9d76e95e-e5da-4b57-8de5-b09b198d0347",
        "colab": {
          "base_uri": "https://localhost:8080/",
          "height": 51
        }
      },
      "cell_type": "code",
      "source": [
        "import random as rd\n",
        "\n",
        "# generate QCM notes\n",
        "df_cat = pd.read_csv('./catalogue.csv',names = ['question','sub'])\n",
        "df_QCM = pd.read_csv('./QCM.csv')\n",
        "df_QCM.drop(columns = ['nom'],inplace = True)\n",
        "for i in range(2,4):\n",
        "    questions = rd.sample(df_cat.question.values.tolist(),20)\n",
        "#     print(len(questions))\n",
        "    student_id = df_QCM.id_eleve.values.tolist()\n",
        "    # colname = questions_q2.append('id_eleve')\n",
        "    df_qcm = pd.DataFrame(np.random.randint(low=0, high=2, size=(len(student_id),20)),columns=questions)\n",
        "    df_qcm.iloc[np.random.randint(low=0, high=len(student_id), size=5),:] = np.nan\n",
        "    df_qcm.insert(0,'id_eleve',student_id)\n",
        "    df_qcm.to_csv('QCM%d.csv'%i,index = False)\n"
      ],
      "execution_count": 0,
      "outputs": [
        {
          "output_type": "stream",
          "text": [
            "20\n",
            "20\n"
          ],
          "name": "stdout"
        }
      ]
    },
    {
      "metadata": {
        "id": "OT43FhkhegRY",
        "colab_type": "code",
        "colab": {}
      },
      "cell_type": "code",
      "source": [
        "# generate absent page \n",
        "student_id = df_QCM.id_eleve.values.tolist()\n",
        "colnames = [\"atelier1\",\"atelier2\",\"atelier3\"]\n",
        "df_absence = pd.DataFrame(np.random.randint(low=1, high=101, size=(len(student_id),3)),columns=colnames)\n",
        "df_absence[df_absence.iloc[:,:] < 90] = 0\n",
        "df_absence[df_absence.iloc[:,:] >= 90] = 1\n",
        "df_absence.sum(axis = 0)\n",
        "df_absence.insert(0,'id_eleve',student_id)\n",
        "df_absence.to_csv('absence.csv',index = False)\n",
        "\n",
        "df_cat = pd.read_csv('./categories.csv')\n",
        "df_cat['atelier'] = np.random.randint(low=1, high=4, size=df_cat.shape[0])\n",
        "df_cat = df_cat.rename(columns = {\"nom_sous-categorie\":\"sous_categorie\",'nom_categorie':\"categorie\"})\n",
        "df_cat[['sous_categorie','categorie','atelier']].to_csv('atelier.csv',index = False)"
      ],
      "execution_count": 0,
      "outputs": []
    },
    {
      "metadata": {
        "id": "xkGeyj68QDx0",
        "colab_type": "text"
      },
      "cell_type": "markdown",
      "source": [
        "# Creat table of dimension-**questions**"
      ]
    },
    {
      "metadata": {
        "id": "O6_jXegCQAeB",
        "colab_type": "code",
        "colab": {}
      },
      "cell_type": "code",
      "source": [
        "def table_question(qcm_file,id_qcm):\n",
        "  catalogue = pd.read_csv('catalogue.csv',header=None)\n",
        "  catalogue.columns = ['code','name']\n",
        "  categories = pd.read_csv('categories.csv')\n",
        "  qcm = pd.read_csv(qcm_file)\n",
        "  observations = [x for x in list(qcm.columns) if x not in ['nom', 'id_eleve']]\n",
        "\n",
        "  cat = []\n",
        "  sous_cat =[]\n",
        "  for idx,i in enumerate(observations):\n",
        "\n",
        "      name = catalogue.name[catalogue['code']== i].values.tolist()\n",
        "      name = ''.join(name)\n",
        "      categorie =categories['nom_categorie'][categories['code_sous-categorie']==name].values.tolist()\n",
        "      categorie = ''.join(categorie)\n",
        "      sous_categorie =categories['nom_sous-categorie'][categories['code_sous-categorie']==name].values.tolist()\n",
        "      sous_categorie = ''.join(sous_categorie)\n",
        "      cat.append(categorie)\n",
        "      categorie = ''\n",
        "      sous_cat.append(sous_categorie)\n",
        "      sous_categorie=''\n",
        "      name = ''\n",
        "\n",
        "  data={'nom_question':observations,'sous_categorie': sous_cat,'categorie': cat,'id_qcm': id_qcm }\n",
        "  question = pd.DataFrame(data)\n",
        "  return question\n",
        "\n",
        "num_qcm = 3\n",
        "qcm_files = ['QCM.csv','QCM2.csv','QCM3.csv']\n",
        "list_df = []\n",
        "for i in range(num_qcm):\n",
        "    question = table_question(qcm_files[i],i+1)\n",
        "    list_df.append(question)\n",
        "\n",
        "df_question = pd.concat(list_df,ignore_index = True)\n",
        "df_question.insert(0,'id_question',[x for x in range(df_question.shape[0])])\n",
        "df_question.to_csv('question.csv',index = False)"
      ],
      "execution_count": 0,
      "outputs": []
    },
    {
      "metadata": {
        "id": "2J7-gRHnQR66",
        "colab_type": "text"
      },
      "cell_type": "markdown",
      "source": [
        "# Create table of fact"
      ]
    },
    {
      "metadata": {
        "colab_type": "code",
        "outputId": "cb7b56d9-98d9-41a4-9fce-3ec7cded63cc",
        "id": "QqQ5DsrIRetm",
        "colab": {
          "base_uri": "https://localhost:8080/",
          "height": 85
        }
      },
      "cell_type": "code",
      "source": [
        "dict_df ={}\n",
        "file_name = os.listdir()\n",
        "for name in file_name:\n",
        "    dict_df[name] = pd.read_csv('./'+name)\n",
        "    \n",
        "def bi_exam(qcm_file,id_qcm):     \n",
        "    ## Table de fait:\n",
        "    df_qcm = pd.read_csv('./'+qcm_file)\n",
        "    df_question = pd.read_csv('./question.csv')\n",
        "    df_student = pd.read_csv('./eleve.csv')\n",
        "\n",
        "    colnames = ['id_eleve','id_question','note','absence','sous_categorie','categorie','id_groupe']\n",
        "    dict_bi_exam = {}\n",
        "    for col in colnames:\n",
        "        dict_bi_exam[col] = []\n",
        "    dict_bi_exam\n",
        "\n",
        "    ## Questions\n",
        "    questions_id = df_question.id_question.values.tolist()\n",
        "    students_id = df_student['id_eleve'].values.tolist()\n",
        "\n",
        "    for s in students_id:\n",
        "        absence = 0\n",
        "        if (df_qcm[df_qcm['id_eleve']==s].isna().sum(axis = 1).values[0]) >= 20: \n",
        "            absence = 1          \n",
        "        for q in questions_id:\n",
        "            if df_question['id_qcm'][(df_question['id_question'] == q)].values[0] == id_qcm:\n",
        "                dict_bi_exam[colnames[0]].append(s)\n",
        "\n",
        "                dict_bi_exam[colnames[2]].append(df_qcm[df_question['nom_question'][(df_question['id_question'] == q) & (df_question['id_qcm'] == id_qcm)]][df_qcm['id_eleve'] == s].values[0,0])\n",
        "                dict_bi_exam[colnames[3]].append(absence)\n",
        "                dict_bi_exam[colnames[1]].append(q)\n",
        "                dict_bi_exam[colnames[4]].append(df_question[\"sous_categorie\"][df_question['id_question'] == q].values[0])\n",
        "                dict_bi_exam[colnames[5]].append(df_question[\"categorie\"][df_question['id_question'] == q].values[0])\n",
        "                dict_bi_exam[colnames[6]].append(df_student['groupe'][df_student['id_eleve']==s].values[0])\n",
        "\n",
        "    # df_bi-exam = pd.DataFrame()\n",
        "    a = pd.DataFrame(data = dict_bi_exam)\n",
        "    a['note'][a.note.isna()] = -1\n",
        "    return a\n",
        "num_qcm = 3\n",
        "qcm_files = ['QCM.csv','QCM2.csv','QCM3.csv']\n",
        "list_df = []\n",
        "for i in range(num_qcm):\n",
        "    bi = bi_exam(qcm_files[i],i+1)\n",
        "    list_df.append(bi)\n",
        "\n",
        "df_bi = pd.concat(list_df,ignore_index = True)\n",
        "\n",
        "df_bi.to_csv('fact_table_bi_exam.csv',index = False)"
      ],
      "execution_count": 31,
      "outputs": [
        {
          "output_type": "stream",
          "text": [
            "/usr/local/lib/python3.6/dist-packages/ipykernel_launcher.py:39: SettingWithCopyWarning: \n",
            "A value is trying to be set on a copy of a slice from a DataFrame\n",
            "\n",
            "See the caveats in the documentation: http://pandas.pydata.org/pandas-docs/stable/indexing.html#indexing-view-versus-copy\n"
          ],
          "name": "stderr"
        }
      ]
    },
    {
      "metadata": {
        "id": "jOGqzsYxegVI",
        "colab_type": "text"
      },
      "cell_type": "markdown",
      "source": [
        "# Data Specification\n",
        "In this part, we will verify all generated tables accroding to the source files.\n",
        "\n",
        "1. verify **eleve.csv** with **ExportElevesUVSimple.csv**\n",
        "2. verify **question.csv** \n",
        "\n",
        "    2.1 nom_question should be the same in each QCM. \n",
        "    \n",
        "    2.2 sous_categorie and categorie should be the nom_sous-categorie and nom_categorie in the table categories.csv.\n",
        "\n",
        "\n",
        "3.  Verify **fact_table_bi_exam.csv**\n",
        "\n",
        "    3.1 **note** should be same as the score in each QCM file\n",
        "    \n",
        "    3.2 **absence** = 1 means the student is absent during this QCM, so the score of all questions in this QCM should be **Nan**  in the QCM file and -1 in this fact_table.\n",
        "\n",
        "\n",
        "\n",
        "\n"
      ]
    },
    {
      "metadata": {
        "id": "badkF8OeiF6I",
        "colab_type": "text"
      },
      "cell_type": "markdown",
      "source": [
        "## Read tables"
      ]
    },
    {
      "metadata": {
        "id": "SiWwWcUsVG-_",
        "colab_type": "code",
        "colab": {}
      },
      "cell_type": "code",
      "source": [
        "generated_path = ['eleve.csv','question.csv','fact_table_bi_exam.csv']\n",
        "source_path = ['ExportElevesUVSimple.csv','catalogue.csv','categories.csv']\n",
        "qcm_path = ['QCM.csv','QCM2.csv','QCM3.csv']\n",
        "\n",
        "dict_df_new = {}\n",
        "dict_df_old = {}\n",
        "df_qcm_list = []\n",
        "\n",
        "for name in generated_path:\n",
        "    dict_df_new[name] = pd.read_csv(name)\n",
        "    \n",
        "for name in source_path:\n",
        "    dict_df_old[name] = pd.read_csv(name)\n",
        "    \n",
        "for name in qcm_path:\n",
        "    df_qcm_list.append(pd.read_csv(name))\n",
        "    \n",
        "dict_df_old['catalogue.csv'] = pd.read_csv('catalogue.csv',names = ['question','sub'])"
      ],
      "execution_count": 0,
      "outputs": []
    },
    {
      "metadata": {
        "id": "q9iXx4ZGhrba",
        "colab_type": "text"
      },
      "cell_type": "markdown",
      "source": [
        "## Verify eleve.csv\n",
        "\n",
        "eleve.csv are built correctly"
      ]
    },
    {
      "metadata": {
        "id": "TaZzV8GnXTJO",
        "colab_type": "code",
        "colab": {
          "base_uri": "https://localhost:8080/",
          "height": 473
        },
        "outputId": "1b2d09ca-3431-41fa-a951-971733af3cc1"
      },
      "cell_type": "code",
      "source": [
        "# Verification of eleve.csv\n",
        "print(dict_df_new['eleve.csv'].head(5))\n",
        "dict_df_old['ExportElevesUVSimple.csv'].head(5)"
      ],
      "execution_count": 34,
      "outputs": [
        {
          "output_type": "stream",
          "text": [
            "   id_eleve       nom       prenom  groupe niveau_initial_francais  \\\n",
            "0      6536  Blizzard    Banegrief       8                       0   \n",
            "1      8389  Blizzard  Spelldragon       8                      b2   \n",
            "2      6507   Bo'thal     Resthres       2                       0   \n",
            "3      5961  Celeborn    Imorcaror       7                       0   \n",
            "4     15671     Comet         Lord       8                       0   \n",
            "\n",
            "  niveau_atteint_francais  \n",
            "0                       0  \n",
            "1                     B1+  \n",
            "2                       0  \n",
            "3                       0  \n",
            "4                       0  \n"
          ],
          "name": "stdout"
        },
        {
          "output_type": "execute_result",
          "data": {
            "text/html": [
              "<div>\n",
              "<style scoped>\n",
              "    .dataframe tbody tr th:only-of-type {\n",
              "        vertical-align: middle;\n",
              "    }\n",
              "\n",
              "    .dataframe tbody tr th {\n",
              "        vertical-align: top;\n",
              "    }\n",
              "\n",
              "    .dataframe thead th {\n",
              "        text-align: right;\n",
              "    }\n",
              "</style>\n",
              "<table border=\"1\" class=\"dataframe\">\n",
              "  <thead>\n",
              "    <tr style=\"text-align: right;\">\n",
              "      <th></th>\n",
              "      <th>ID_ELEVE</th>\n",
              "      <th>NOM_ELE</th>\n",
              "      <th>PRENOM_ELE</th>\n",
              "      <th>groupe_promo</th>\n",
              "      <th>num_groupe_etudiant</th>\n",
              "      <th>libelle</th>\n",
              "      <th>site</th>\n",
              "      <th>NOTE</th>\n",
              "      <th>TYPE_INSCR</th>\n",
              "      <th>CODE_UP</th>\n",
              "      <th>...</th>\n",
              "      <th>MOY_CC</th>\n",
              "      <th>MOY_CS</th>\n",
              "      <th>MOY</th>\n",
              "      <th>CREDIT</th>\n",
              "      <th>ECTS_GRADE</th>\n",
              "      <th>rang_domaine</th>\n",
              "      <th>code_domaine</th>\n",
              "      <th>NIVEAU_INIT_MAX_FRANCAIS</th>\n",
              "      <th>NIVEAU_ATTEINT_MAX_FRANCAIS</th>\n",
              "      <th>DATE_EDITION</th>\n",
              "    </tr>\n",
              "  </thead>\n",
              "  <tbody>\n",
              "    <tr>\n",
              "      <th>0</th>\n",
              "      <td>6536</td>\n",
              "      <td>Blizzard</td>\n",
              "      <td>Banegrief</td>\n",
              "      <td>2</td>\n",
              "      <td>8</td>\n",
              "      <td>Jita</td>\n",
              "      <td>Brest</td>\n",
              "      <td>NaN</td>\n",
              "      <td>.</td>\n",
              "      <td>UVF3B415</td>\n",
              "      <td>...</td>\n",
              "      <td>NaN</td>\n",
              "      <td>NaN</td>\n",
              "      <td>NaN</td>\n",
              "      <td>NaN</td>\n",
              "      <td>NaN</td>\n",
              "      <td>NaN</td>\n",
              "      <td>NaN</td>\n",
              "      <td>NaN</td>\n",
              "      <td>NaN</td>\n",
              "      <td>26/01/2018</td>\n",
              "    </tr>\n",
              "    <tr>\n",
              "      <th>1</th>\n",
              "      <td>8389</td>\n",
              "      <td>Blizzard</td>\n",
              "      <td>Spelldragon</td>\n",
              "      <td>2</td>\n",
              "      <td>8</td>\n",
              "      <td>Jita</td>\n",
              "      <td>Brest</td>\n",
              "      <td>NaN</td>\n",
              "      <td>.</td>\n",
              "      <td>UVF3B415</td>\n",
              "      <td>...</td>\n",
              "      <td>NaN</td>\n",
              "      <td>NaN</td>\n",
              "      <td>NaN</td>\n",
              "      <td>NaN</td>\n",
              "      <td>NaN</td>\n",
              "      <td>NaN</td>\n",
              "      <td>NaN</td>\n",
              "      <td>b2</td>\n",
              "      <td>B1+</td>\n",
              "      <td>26/01/2018</td>\n",
              "    </tr>\n",
              "    <tr>\n",
              "      <th>2</th>\n",
              "      <td>6507</td>\n",
              "      <td>Bo'thal</td>\n",
              "      <td>Resthres</td>\n",
              "      <td>1</td>\n",
              "      <td>2</td>\n",
              "      <td>Évaluation</td>\n",
              "      <td>Brest</td>\n",
              "      <td>NaN</td>\n",
              "      <td>.</td>\n",
              "      <td>UVF3B415</td>\n",
              "      <td>...</td>\n",
              "      <td>NaN</td>\n",
              "      <td>NaN</td>\n",
              "      <td>NaN</td>\n",
              "      <td>NaN</td>\n",
              "      <td>NaN</td>\n",
              "      <td>NaN</td>\n",
              "      <td>NaN</td>\n",
              "      <td>NaN</td>\n",
              "      <td>NaN</td>\n",
              "      <td>26/01/2018</td>\n",
              "    </tr>\n",
              "    <tr>\n",
              "      <th>3</th>\n",
              "      <td>5961</td>\n",
              "      <td>Celeborn</td>\n",
              "      <td>Imorcaror</td>\n",
              "      <td>2</td>\n",
              "      <td>7</td>\n",
              "      <td>Évaluation</td>\n",
              "      <td>Brest</td>\n",
              "      <td>NaN</td>\n",
              "      <td>.</td>\n",
              "      <td>UVF3B415</td>\n",
              "      <td>...</td>\n",
              "      <td>NaN</td>\n",
              "      <td>NaN</td>\n",
              "      <td>NaN</td>\n",
              "      <td>NaN</td>\n",
              "      <td>NaN</td>\n",
              "      <td>NaN</td>\n",
              "      <td>NaN</td>\n",
              "      <td>NaN</td>\n",
              "      <td>NaN</td>\n",
              "      <td>26/01/2018</td>\n",
              "    </tr>\n",
              "    <tr>\n",
              "      <th>4</th>\n",
              "      <td>15671</td>\n",
              "      <td>Comet</td>\n",
              "      <td>Lord</td>\n",
              "      <td>2</td>\n",
              "      <td>8</td>\n",
              "      <td>Jita</td>\n",
              "      <td>Brest</td>\n",
              "      <td>NaN</td>\n",
              "      <td>.</td>\n",
              "      <td>UVF3B415</td>\n",
              "      <td>...</td>\n",
              "      <td>NaN</td>\n",
              "      <td>NaN</td>\n",
              "      <td>NaN</td>\n",
              "      <td>NaN</td>\n",
              "      <td>NaN</td>\n",
              "      <td>NaN</td>\n",
              "      <td>NaN</td>\n",
              "      <td>NaN</td>\n",
              "      <td>NaN</td>\n",
              "      <td>26/01/2018</td>\n",
              "    </tr>\n",
              "  </tbody>\n",
              "</table>\n",
              "<p>5 rows × 25 columns</p>\n",
              "</div>"
            ],
            "text/plain": [
              "   ID_ELEVE   NOM_ELE   PRENOM_ELE  groupe_promo  num_groupe_etudiant  \\\n",
              "0      6536  Blizzard    Banegrief             2                    8   \n",
              "1      8389  Blizzard  Spelldragon             2                    8   \n",
              "2      6507   Bo'thal     Resthres             1                    2   \n",
              "3      5961  Celeborn    Imorcaror             2                    7   \n",
              "4     15671     Comet         Lord             2                    8   \n",
              "\n",
              "      libelle   site  NOTE TYPE_INSCR   CODE_UP      ...      MOY_CC MOY_CS  \\\n",
              "0        Jita  Brest   NaN          .  UVF3B415      ...         NaN    NaN   \n",
              "1        Jita  Brest   NaN          .  UVF3B415      ...         NaN    NaN   \n",
              "2  Évaluation  Brest   NaN          .  UVF3B415      ...         NaN    NaN   \n",
              "3  Évaluation  Brest   NaN          .  UVF3B415      ...         NaN    NaN   \n",
              "4        Jita  Brest   NaN          .  UVF3B415      ...         NaN    NaN   \n",
              "\n",
              "  MOY CREDIT ECTS_GRADE  rang_domaine  code_domaine  NIVEAU_INIT_MAX_FRANCAIS  \\\n",
              "0 NaN    NaN        NaN           NaN           NaN                       NaN   \n",
              "1 NaN    NaN        NaN           NaN           NaN                        b2   \n",
              "2 NaN    NaN        NaN           NaN           NaN                       NaN   \n",
              "3 NaN    NaN        NaN           NaN           NaN                       NaN   \n",
              "4 NaN    NaN        NaN           NaN           NaN                       NaN   \n",
              "\n",
              "   NIVEAU_ATTEINT_MAX_FRANCAIS  DATE_EDITION  \n",
              "0                          NaN    26/01/2018  \n",
              "1                          B1+    26/01/2018  \n",
              "2                          NaN    26/01/2018  \n",
              "3                          NaN    26/01/2018  \n",
              "4                          NaN    26/01/2018  \n",
              "\n",
              "[5 rows x 25 columns]"
            ]
          },
          "metadata": {
            "tags": []
          },
          "execution_count": 34
        }
      ]
    },
    {
      "metadata": {
        "id": "ve5JPjUNhwjN",
        "colab_type": "text"
      },
      "cell_type": "markdown",
      "source": [
        ""
      ]
    },
    {
      "metadata": {
        "id": "aHfvrhuxhRgk",
        "colab_type": "text"
      },
      "cell_type": "markdown",
      "source": [
        "## Verify question.csv\n",
        "\n",
        "question.csv is bult correctly"
      ]
    },
    {
      "metadata": {
        "id": "VURjQG71X6He",
        "colab_type": "code",
        "colab": {
          "base_uri": "https://localhost:8080/",
          "height": 51
        },
        "outputId": "3d92de59-057c-4221-dfd3-2312dc404c37"
      },
      "cell_type": "code",
      "source": [
        "# verification of question.csv\n",
        "def find_question_info(line, dict_df_old = dict_df_old):\n",
        "    df = dict_df_old['catalogue.csv']\n",
        "    df2 = dict_df_old['categories.csv']\n",
        "    if df2['nom_sous-categorie'][df2['code_sous-categorie'] == df['sub'][df.question == line.nom_question].values[0]].values[0] != line.sous_categorie:\n",
        "        print('wrong line in question.csv :\\n',line)\n",
        "        print('should be : ',df['sub'][df.question == line.nom_question].values[0])\n",
        "    return True \n",
        "print('If has wrong value, it will indicate the wrong value and right value')\n",
        "a = dict_df_new['question.csv'].apply(lambda line: find_question_info(line), axis = 1)\n",
        "print('verification finished')\n",
        "# dict_df_new['question.csv']"
      ],
      "execution_count": 58,
      "outputs": [
        {
          "output_type": "stream",
          "text": [
            "If has wrong value, it will indicate the wrong value and right value\n",
            "verification finished\n"
          ],
          "name": "stdout"
        }
      ]
    },
    {
      "metadata": {
        "id": "CpBfSvqYhZoz",
        "colab_type": "text"
      },
      "cell_type": "markdown",
      "source": [
        "question.csv are built correctly"
      ]
    },
    {
      "metadata": {
        "id": "5Y8Qwv19YfLA",
        "colab_type": "text"
      },
      "cell_type": "markdown",
      "source": [
        "## Verify fact_table_bi_exam.csv"
      ]
    },
    {
      "metadata": {
        "id": "e9HTuENgZmTR",
        "colab_type": "code",
        "colab": {}
      },
      "cell_type": "code",
      "source": [
        ""
      ],
      "execution_count": 0,
      "outputs": []
    }
  ]
}